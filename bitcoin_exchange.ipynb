{
 "nbformat": 4,
 "nbformat_minor": 0,
 "metadata": {
  "colab": {
   "name": "bitcoin-exchange.ipynb",
   "provenance": []
  },
  "kernelspec": {
   "name": "python3",
   "display_name": "Python 3.8.8 64-bit ('base': conda)"
  },
  "language_info": {
   "name": "python",
   "version": "3.8.8"
  },
  "interpreter": {
   "hash": "b3ba2566441a7c06988d0923437866b63cedc61552a5af99d1f4fb67d367b25f"
  }
 },
 "cells": [
  {
   "cell_type": "code",
   "metadata": {
    "colab": {
     "base_uri": "https://localhost:8080/"
    },
    "id": "7Qo5XQihJve4",
    "outputId": "3fdaaeb2-f25a-46d3-9610-d9e562e883d2"
   },
   "source": [
    "!pip install bit"
   ],
   "execution_count": 1,
   "outputs": [
    {
     "output_type": "stream",
     "name": "stdout",
     "text": [
      "Collecting bit\n  Downloading bit-0.7.2-py3-none-any.whl (68 kB)\nRequirement already satisfied: requests in c:\\programdata\\anaconda3\\lib\\site-packages (from bit) (2.25.1)\nCollecting coincurve>=4.3.0\n  Downloading coincurve-15.0.0-py3-none-win_amd64.whl (292 kB)\nRequirement already satisfied: asn1crypto in c:\\programdata\\anaconda3\\lib\\site-packages (from coincurve>=4.3.0->bit) (1.4.0)\nRequirement already satisfied: cffi>=1.3.0 in c:\\programdata\\anaconda3\\lib\\site-packages (from coincurve>=4.3.0->bit) (1.14.5)\nRequirement already satisfied: pycparser in c:\\programdata\\anaconda3\\lib\\site-packages (from cffi>=1.3.0->coincurve>=4.3.0->bit) (2.20)\nRequirement already satisfied: urllib3<1.27,>=1.21.1 in c:\\programdata\\anaconda3\\lib\\site-packages (from requests->bit) (1.26.4)\nRequirement already satisfied: chardet<5,>=3.0.2 in c:\\programdata\\anaconda3\\lib\\site-packages (from requests->bit) (4.0.0)\nRequirement already satisfied: idna<3,>=2.5 in c:\\programdata\\anaconda3\\lib\\site-packages (from requests->bit) (2.10)\nRequirement already satisfied: certifi>=2017.4.17 in c:\\programdata\\anaconda3\\lib\\site-packages (from requests->bit) (2020.12.5)\nInstalling collected packages: coincurve, bit\nSuccessfully installed bit-0.7.2 coincurve-15.0.0\n"
     ]
    }
   ]
  },
  {
   "cell_type": "code",
   "metadata": {
    "colab": {
     "base_uri": "https://localhost:8080/",
     "height": 363
    },
    "id": "C12Q01UyJ1CQ",
    "outputId": "4002b423-e5ae-4eb5-c7e8-fd2678abdaf0"
   },
   "source": [
    "from bit import Key\n",
    "from bit import wif_to_key\n",
    "\n",
    "btc = Key()\n",
    "btc.to_wif() #get private key"
   ],
   "execution_count": 31,
   "outputs": [
    {
     "output_type": "execute_result",
     "data": {
      "text/plain": [
       "'L16Jj5u2vyLLbKRji6wvMQs5HfEGwRaeTKaCLrQCJuD47SJ7ycZi'"
      ]
     },
     "metadata": {},
     "execution_count": 31
    }
   ]
  },
  {
   "cell_type": "code",
   "metadata": {
    "id": "c4t0GaPpKQYR"
   },
   "source": [
    "btc.address #get public key can be checked in https://www.blockchain.com/btc/address/19UoUmYisL67bjLGPVcXrwP5FJcFbMV5CL"
   ],
   "execution_count": 32,
   "outputs": [
    {
     "output_type": "execute_result",
     "data": {
      "text/plain": [
       "'1AUZrCEXr6Kh2NLpsN1ZuVtr8CXSr5uhs1'"
      ]
     },
     "metadata": {},
     "execution_count": 32
    }
   ]
  },
  {
   "source": [
    "Getting balance from bitcoin wallet"
   ],
   "cell_type": "markdown",
   "metadata": {}
  },
  {
   "cell_type": "code",
   "metadata": {
    "id": "9NtlAZL8MVBr"
   },
   "source": [
    "btc = Key('L4zBCmmk84P7bbWZEXMHo31qc1tJgiBPisqdpssGz6iPvTP8mHaL')\n",
    "\n"
   ],
   "execution_count": 33,
   "outputs": []
  },
  {
   "cell_type": "code",
   "execution_count": 34,
   "metadata": {},
   "outputs": [
    {
     "output_type": "execute_result",
     "data": {
      "text/plain": [
       "[Unspent(amount=58231, confirmations=2, script='76a9145d0309271d10034ab725e3b5ef14d1444ea8f56988ac', txid='f76afded12a6405af60d08285f74564ce575fc46f7605d4064978ac7eb3a5825', txindex=21, segwit=False, sequence=4294967295),\n",
       " Unspent(amount=8280, confirmations=10, script='76a9145d0309271d10034ab725e3b5ef14d1444ea8f56988ac', txid='c15eb8fbbf524cc3d144e7239441780ba4734565a53ee0b5f1fdb22a66d75ade', txindex=0, segwit=False, sequence=4294967295)]"
      ]
     },
     "metadata": {},
     "execution_count": 34
    }
   ],
   "source": [
    "btc.get_unspents()"
   ]
  },
  {
   "cell_type": "code",
   "execution_count": 47,
   "metadata": {},
   "outputs": [
    {
     "output_type": "execute_result",
     "data": {
      "text/plain": [
       "'7.23'"
      ]
     },
     "metadata": {},
     "execution_count": 47
    }
   ],
   "source": [
    "btc.get_balance('usd')"
   ]
  },
  {
   "cell_type": "code",
   "execution_count": 40,
   "metadata": {},
   "outputs": [
    {
     "output_type": "execute_result",
     "data": {
      "text/plain": [
       "'0.00066511'"
      ]
     },
     "metadata": {},
     "execution_count": 40
    }
   ],
   "source": [
    "btc.get_balance('btc')"
   ]
  },
  {
   "cell_type": "code",
   "execution_count": 43,
   "metadata": {},
   "outputs": [],
   "source": [
    "transaction = btc.create_transaction([('1gMsKpeFgaggvrootth76wNV7Yd3Wpdee',0.00001, 'btc')])\n"
   ]
  },
  {
   "cell_type": "code",
   "execution_count": 45,
   "metadata": {},
   "outputs": [
    {
     "output_type": "execute_result",
     "data": {
      "text/plain": [
       "746"
      ]
     },
     "metadata": {},
     "execution_count": 45
    }
   ],
   "source": [
    "len(transaction.encode('utf-8'))"
   ]
  },
  {
   "cell_type": "code",
   "execution_count": null,
   "metadata": {},
   "outputs": [],
   "source": []
  },
  {
   "cell_type": "code",
   "execution_count": 15,
   "metadata": {},
   "outputs": [
    {
     "output_type": "execute_result",
     "data": {
      "text/plain": [
       "102"
      ]
     },
     "metadata": {},
     "execution_count": 15
    }
   ],
   "source": [
    "from bit.network import get_fee, get_fee_cached\n",
    "get_fee(fast=True)"
   ]
  },
  {
   "source": [
    "transfer money works, but it can be very expensive... better check and maximize the fee."
   ],
   "cell_type": "markdown",
   "metadata": {}
  },
  {
   "cell_type": "code",
   "execution_count": 48,
   "metadata": {},
   "outputs": [
    {
     "output_type": "execute_result",
     "data": {
      "text/plain": [
       "[Unspent(amount=21363, confirmations=1, script='76a9145d0309271d10034ab725e3b5ef14d1444ea8f56988ac', txid='7dbfc86edf0f76ab6fe21569b243f910697404b8f7863630ad5c4668e956118c', txindex=1, segwit=False, sequence=4294967295)]"
      ]
     },
     "metadata": {},
     "execution_count": 48
    }
   ],
   "source": [
    "from bit import Key\n",
    "from bit import wif_to_key\n",
    "\n",
    "key = Key('L4zBCmmk84P7bbWZEXMHo31qc1tJgiBPisqdpssGz6iPvTP8mHaL')\n",
    "key.get_unspents()\n",
    "\n",
    "# targetwallet = '1gMsKpeFgaggvrootth76wNV7Yd3Wpdee'\n",
    "# amountasbtc = 0.00007\n",
    "# x = key.send([(targetwallet, amountasbtc, 'btc')], fee=102)\n",
    "# print(x)"
   ]
  },
  {
   "cell_type": "code",
   "execution_count": 11,
   "metadata": {},
   "outputs": [
    {
     "output_type": "error",
     "ename": "InsufficientFunds",
     "evalue": "Balance 15000 is less than 404552 (including fee).",
     "traceback": [
      "\u001b[1;31m---------------------------------------------------------------------------\u001b[0m",
      "\u001b[1;31mInsufficientFunds\u001b[0m                         Traceback (most recent call last)",
      "\u001b[1;32m<ipython-input-11-0c761f362b41>\u001b[0m in \u001b[0;36m<module>\u001b[1;34m\u001b[0m\n\u001b[0;32m      9\u001b[0m     \u001b[1;33m(\u001b[0m\u001b[1;34m'14Tr4HaKkKuC1Lmpr2YMAuYVZRWqAdRTcr'\u001b[0m\u001b[1;33m,\u001b[0m \u001b[1;36m2.5\u001b[0m\u001b[1;33m,\u001b[0m \u001b[1;34m'cad'\u001b[0m\u001b[1;33m)\u001b[0m\u001b[1;33m\u001b[0m\u001b[1;33m\u001b[0m\u001b[0m\n\u001b[0;32m     10\u001b[0m ]\n\u001b[1;32m---> 11\u001b[1;33m \u001b[0mkey\u001b[0m\u001b[1;33m.\u001b[0m\u001b[0msend\u001b[0m\u001b[1;33m(\u001b[0m\u001b[0moutputs\u001b[0m\u001b[1;33m)\u001b[0m\u001b[1;33m\u001b[0m\u001b[1;33m\u001b[0m\u001b[0m\n\u001b[0m",
      "\u001b[1;32mC:\\ProgramData\\Anaconda3\\lib\\site-packages\\bit\\wallet.py\u001b[0m in \u001b[0;36msend\u001b[1;34m(self, outputs, fee, absolute_fee, leftover, combine, message, unspents, message_is_hex, replace_by_fee)\u001b[0m\n\u001b[0;32m    371\u001b[0m         \"\"\"\n\u001b[0;32m    372\u001b[0m \u001b[1;33m\u001b[0m\u001b[0m\n\u001b[1;32m--> 373\u001b[1;33m         tx_hex = self.create_transaction(\n\u001b[0m\u001b[0;32m    374\u001b[0m             \u001b[0moutputs\u001b[0m\u001b[1;33m,\u001b[0m\u001b[1;33m\u001b[0m\u001b[1;33m\u001b[0m\u001b[0m\n\u001b[0;32m    375\u001b[0m             \u001b[0mfee\u001b[0m\u001b[1;33m=\u001b[0m\u001b[0mfee\u001b[0m\u001b[1;33m,\u001b[0m\u001b[1;33m\u001b[0m\u001b[1;33m\u001b[0m\u001b[0m\n",
      "\u001b[1;32mC:\\ProgramData\\Anaconda3\\lib\\site-packages\\bit\\wallet.py\u001b[0m in \u001b[0;36mcreate_transaction\u001b[1;34m(self, outputs, fee, absolute_fee, leftover, combine, message, unspents, message_is_hex, replace_by_fee)\u001b[0m\n\u001b[0;32m    307\u001b[0m         \u001b[0mreturn_address\u001b[0m \u001b[1;33m=\u001b[0m \u001b[0mself\u001b[0m\u001b[1;33m.\u001b[0m\u001b[0msegwit_address\u001b[0m \u001b[1;32mif\u001b[0m \u001b[0many\u001b[0m\u001b[1;33m(\u001b[0m\u001b[1;33m[\u001b[0m\u001b[0mu\u001b[0m\u001b[1;33m.\u001b[0m\u001b[0msegwit\u001b[0m \u001b[1;32mfor\u001b[0m \u001b[0mu\u001b[0m \u001b[1;32min\u001b[0m \u001b[0munspents\u001b[0m\u001b[1;33m]\u001b[0m\u001b[1;33m)\u001b[0m \u001b[1;32melse\u001b[0m \u001b[0mself\u001b[0m\u001b[1;33m.\u001b[0m\u001b[0maddress\u001b[0m\u001b[1;33m\u001b[0m\u001b[1;33m\u001b[0m\u001b[0m\n\u001b[0;32m    308\u001b[0m \u001b[1;33m\u001b[0m\u001b[0m\n\u001b[1;32m--> 309\u001b[1;33m         unspents, outputs = sanitize_tx_data(\n\u001b[0m\u001b[0;32m    310\u001b[0m             \u001b[0munspents\u001b[0m\u001b[1;33m,\u001b[0m\u001b[1;33m\u001b[0m\u001b[1;33m\u001b[0m\u001b[0m\n\u001b[0;32m    311\u001b[0m             \u001b[0moutputs\u001b[0m\u001b[1;33m,\u001b[0m\u001b[1;33m\u001b[0m\u001b[1;33m\u001b[0m\u001b[0m\n",
      "\u001b[1;32mC:\\ProgramData\\Anaconda3\\lib\\site-packages\\bit\\transaction.py\u001b[0m in \u001b[0;36msanitize_tx_data\u001b[1;34m(unspents, outputs, fee, leftover, combine, message, compressed, absolute_fee, min_change, version, message_is_hex, replace_by_fee)\u001b[0m\n\u001b[0;32m    425\u001b[0m \u001b[1;33m\u001b[0m\u001b[0m\n\u001b[0;32m    426\u001b[0m     \u001b[1;31m# Use Branch-and-Bound for coin selection:\u001b[0m\u001b[1;33m\u001b[0m\u001b[1;33m\u001b[0m\u001b[1;33m\u001b[0m\u001b[0m\n\u001b[1;32m--> 427\u001b[1;33m     unspents[:], remaining = select_coins(\n\u001b[0m\u001b[0;32m    428\u001b[0m         \u001b[0msum_outputs\u001b[0m\u001b[1;33m,\u001b[0m\u001b[1;33m\u001b[0m\u001b[1;33m\u001b[0m\u001b[0m\n\u001b[0;32m    429\u001b[0m         \u001b[0mfee\u001b[0m\u001b[1;33m,\u001b[0m\u001b[1;33m\u001b[0m\u001b[1;33m\u001b[0m\u001b[0m\n",
      "\u001b[1;32mC:\\ProgramData\\Anaconda3\\lib\\site-packages\\bit\\transaction.py\u001b[0m in \u001b[0;36mselect_coins\u001b[1;34m(target, fee, output_size, min_change, absolute_fee, consolidate, unspents)\u001b[0m\n\u001b[0;32m    324\u001b[0m                 \u001b[1;32mbreak\u001b[0m\u001b[1;33m\u001b[0m\u001b[1;33m\u001b[0m\u001b[0m\n\u001b[0;32m    325\u001b[0m         \u001b[1;32melse\u001b[0m\u001b[1;33m:\u001b[0m\u001b[1;33m\u001b[0m\u001b[1;33m\u001b[0m\u001b[0m\n\u001b[1;32m--> 326\u001b[1;33m             raise InsufficientFunds(\n\u001b[0m\u001b[0;32m    327\u001b[0m                 \u001b[1;34m'Balance {} is less than {} (including '\u001b[0m\u001b[1;33m\u001b[0m\u001b[1;33m\u001b[0m\u001b[0m\n\u001b[0;32m    328\u001b[0m                 \u001b[1;34m'fee).'\u001b[0m\u001b[1;33m.\u001b[0m\u001b[0mformat\u001b[0m\u001b[1;33m(\u001b[0m\u001b[0msum\u001b[0m\u001b[1;33m(\u001b[0m\u001b[0mu\u001b[0m\u001b[1;33m.\u001b[0m\u001b[0mamount\u001b[0m \u001b[1;32mfor\u001b[0m \u001b[0mu\u001b[0m \u001b[1;32min\u001b[0m \u001b[0mselected_coins\u001b[0m\u001b[1;33m)\u001b[0m\u001b[1;33m,\u001b[0m \u001b[0mtarget\u001b[0m \u001b[1;33m+\u001b[0m \u001b[0mmin_change\u001b[0m \u001b[1;33m+\u001b[0m \u001b[0mestimated_fee\u001b[0m\u001b[1;33m)\u001b[0m\u001b[1;33m\u001b[0m\u001b[1;33m\u001b[0m\u001b[0m\n",
      "\u001b[1;31mInsufficientFunds\u001b[0m: Balance 15000 is less than 404552 (including fee)."
     ]
    }
   ],
   "source": [
    "outputs = [\n",
    "    # Wikileaks\n",
    "    ('1HB5XMLmzFVj8ALj6mfBsbifRoD4miY36v', 0.0035, 'btc'),\n",
    "    # Internet Archive\n",
    "    ('1Archive1n2C579dMsAu3iC6tWzuQJz8dN', 190, 'jpy')\n",
    "]\n",
    "# key.send(outputs)"
   ]
  },
  {
   "cell_type": "code",
   "execution_count": null,
   "metadata": {},
   "outputs": [],
   "source": []
  }
 ]
}