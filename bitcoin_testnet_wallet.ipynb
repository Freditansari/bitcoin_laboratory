{
 "metadata": {
  "language_info": {
   "codemirror_mode": {
    "name": "ipython",
    "version": 3
   },
   "file_extension": ".py",
   "mimetype": "text/x-python",
   "name": "python",
   "nbconvert_exporter": "python",
   "pygments_lexer": "ipython3",
   "version": "3.8.8"
  },
  "orig_nbformat": 4,
  "kernelspec": {
   "name": "python3",
   "display_name": "Python 3.8.8 64-bit ('base': conda)"
  },
  "interpreter": {
   "hash": "b3ba2566441a7c06988d0923437866b63cedc61552a5af99d1f4fb67d367b25f"
  }
 },
 "nbformat": 4,
 "nbformat_minor": 2,
 "cells": [
  {
   "cell_type": "code",
   "execution_count": 4,
   "metadata": {},
   "outputs": [],
   "source": [
    "# !pip install bit"
   ]
  },
  {
   "cell_type": "code",
   "execution_count": 4,
   "metadata": {},
   "outputs": [
    {
     "output_type": "stream",
     "name": "stdout",
     "text": [
      "private key:  cW8prdLwfCQ36JbN6CLkCjGU8xvRxAUJvwCTHjfExPwjiAFbS2L3\npublic key :  mhsMThiRSZzT7zBxbKEzyVCcnMfhzimxWz\n"
     ]
    }
   ],
   "source": [
    "from bit import Key, PrivateKeyTestnet\n",
    "from bit import wif_to_key\n",
    "\n",
    "btc = PrivateKeyTestnet()\n",
    "print(\"private key: \",btc.to_wif()) #get private key\n",
    "print(\"public key : \",btc.address)"
   ]
  },
  {
   "cell_type": "code",
   "execution_count": null,
   "metadata": {},
   "outputs": [],
   "source": []
  }
 ]
}