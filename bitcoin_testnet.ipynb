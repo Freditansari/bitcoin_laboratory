{
 "nbformat": 4,
 "nbformat_minor": 0,
 "metadata": {
  "colab": {
   "name": "bitcoin-exchange.ipynb",
   "provenance": []
  },
  "kernelspec": {
   "name": "python3",
   "display_name": "Python 3.8.8 64-bit ('base': conda)"
  },
  "language_info": {
   "name": "python",
   "version": "3.8.8"
  },
  "interpreter": {
   "hash": "b3ba2566441a7c06988d0923437866b63cedc61552a5af99d1f4fb67d367b25f"
  }
 },
 "cells": [
  {
   "cell_type": "code",
   "metadata": {
    "colab": {
     "base_uri": "https://localhost:8080/"
    },
    "id": "7Qo5XQihJve4",
    "outputId": "3fdaaeb2-f25a-46d3-9610-d9e562e883d2"
   },
   "source": [
    "# !pip install bit\n",
    "#  private key : cTVw1fKgo8TsPNUFkMBK7sW5HJCH23D6g1y1fMTFrQ4CoernK6Gk\n",
    "#  public key : miKDZGLH8nfzvESgPZZy9mQUY6zks2poU8"
   ],
   "execution_count": 1,
   "outputs": []
  },
  {
   "cell_type": "code",
   "metadata": {
    "colab": {
     "base_uri": "https://localhost:8080/",
     "height": 363
    },
    "id": "C12Q01UyJ1CQ",
    "outputId": "4002b423-e5ae-4eb5-c7e8-fd2678abdaf0"
   },
   "source": [
    "from bit import Key, PrivateKeyTestnet\n",
    "from bit import wif_to_key\n",
    "\n",
    "btc = PrivateKeyTestnet('cTVw1fKgo8TsPNUFkMBK7sW5HJCH23D6g1y1fMTFrQ4CoernK6Gk')\n",
    "btc.to_wif() #get private key"
   ],
   "execution_count": 9,
   "outputs": [
    {
     "output_type": "execute_result",
     "data": {
      "text/plain": [
       "'cTVw1fKgo8TsPNUFkMBK7sW5HJCH23D6g1y1fMTFrQ4CoernK6Gk'"
      ]
     },
     "metadata": {},
     "execution_count": 9
    }
   ]
  },
  {
   "cell_type": "code",
   "execution_count": 10,
   "metadata": {},
   "outputs": [
    {
     "output_type": "execute_result",
     "data": {
      "text/plain": [
       "'miKDZGLH8nfzvESgPZZy9mQUY6zks2poU8'"
      ]
     },
     "metadata": {},
     "execution_count": 10
    }
   ],
   "source": [
    "btc.address"
   ]
  },
  {
   "cell_type": "code",
   "execution_count": 11,
   "metadata": {},
   "outputs": [],
   "source": [
    "# btc = PrivateKeyTestnet()\n",
    "# print(\"private key : \",btc.to_wif()) #get private key\n",
    "# print(\"public key: \", btc.address)"
   ]
  },
  {
   "cell_type": "code",
   "execution_count": 14,
   "metadata": {},
   "outputs": [
    {
     "output_type": "stream",
     "name": "stdout",
     "text": [
      "0.0012\n",
      "38.97\n",
      "120000\n"
     ]
    }
   ],
   "source": [
    "print(btc.get_balance('btc'))\n",
    "print(btc.get_balance('usd'))\n",
    "print(btc.get_balance('satoshi'))"
   ]
  },
  {
   "cell_type": "code",
   "execution_count": 24,
   "metadata": {},
   "outputs": [],
   "source": [
    "transaction = btc.create_transaction([('mkHS9ne12qx9pS9VojpwU5xtRd4T7X7ZUt',0.00001, 'btc')], fee=20)\n"
   ]
  },
  {
   "cell_type": "code",
   "execution_count": 25,
   "metadata": {},
   "outputs": [],
   "source": [
    "signed_transactions =btc.sign_transaction(transaction)"
   ]
  },
  {
   "cell_type": "code",
   "execution_count": 28,
   "metadata": {},
   "outputs": [
    {
     "output_type": "stream",
     "name": "stdout",
     "text": [
      "748  bytes\n"
     ]
    }
   ],
   "source": [
    "print(len(signed_transactions.encode('utf-8')), \" bytes\")"
   ]
  },
  {
   "cell_type": "code",
   "execution_count": 30,
   "metadata": {},
   "outputs": [],
   "source": [
    "from bit import network as nw"
   ]
  },
  {
   "cell_type": "code",
   "execution_count": 33,
   "metadata": {},
   "outputs": [],
   "source": [
    "result = nw.NetworkAPI.broadcast_tx_testnet(signed_transactions)"
   ]
  },
  {
   "cell_type": "code",
   "execution_count": 35,
   "metadata": {},
   "outputs": [
    {
     "output_type": "error",
     "ename": "SyntaxError",
     "evalue": "invalid syntax (<ipython-input-35-22280984b65d>, line 1)",
     "traceback": [
      "\u001b[1;36m  File \u001b[1;32m\"<ipython-input-35-22280984b65d>\"\u001b[1;36m, line \u001b[1;32m1\u001b[0m\n\u001b[1;33m    ```\u001b[0m\n\u001b[1;37m    ^\u001b[0m\n\u001b[1;31mSyntaxError\u001b[0m\u001b[1;31m:\u001b[0m invalid syntax\n"
     ]
    }
   ],
   "source": [
    "\n",
    "# https://live.blockcypher.com/btc-testnet/tx/1f4fd4e3e92722ed1bb1863220c91a87dc3a9fd47da5b179ecda739bb2596e10/\n"
   ]
  },
  {
   "cell_type": "code",
   "execution_count": null,
   "metadata": {},
   "outputs": [],
   "source": []
  }
 ]
}