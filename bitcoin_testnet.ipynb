{
 "nbformat": 4,
 "nbformat_minor": 0,
 "metadata": {
  "colab": {
   "name": "bitcoin-exchange.ipynb",
   "provenance": []
  },
  "kernelspec": {
   "name": "python3",
   "display_name": "Python 3.8.8 64-bit ('base': conda)"
  },
  "language_info": {
   "name": "python",
   "version": "3.8.8"
  },
  "interpreter": {
   "hash": "b3ba2566441a7c06988d0923437866b63cedc61552a5af99d1f4fb67d367b25f"
  }
 },
 "cells": [
  {
   "cell_type": "code",
   "metadata": {
    "colab": {
     "base_uri": "https://localhost:8080/"
    },
    "id": "7Qo5XQihJve4",
    "outputId": "3fdaaeb2-f25a-46d3-9610-d9e562e883d2"
   },
   "source": [
    "# !pip install bit\n",
    "#  private key : cTVw1fKgo8TsPNUFkMBK7sW5HJCH23D6g1y1fMTFrQ4CoernK6Gk\n",
    "#  public key : miKDZGLH8nfzvESgPZZy9mQUY6zks2poU8"
   ],
   "execution_count": 127,
   "outputs": []
  },
  {
   "cell_type": "code",
   "metadata": {
    "colab": {
     "base_uri": "https://localhost:8080/",
     "height": 363
    },
    "id": "C12Q01UyJ1CQ",
    "outputId": "4002b423-e5ae-4eb5-c7e8-fd2678abdaf0"
   },
   "source": [
    "from bit import Key, PrivateKeyTestnet\n",
    "from bit import wif_to_key, network\n",
    "\n",
    "btc = PrivateKeyTestnet('cW8prdLwfCQ36JbN6CLkCjGU8xvRxAUJvwCTHjfExPwjiAFbS2L3')\n",
    "btc.to_wif() #get private key"
   ],
   "execution_count": 203,
   "outputs": [
    {
     "output_type": "execute_result",
     "data": {
      "text/plain": [
       "'cW8prdLwfCQ36JbN6CLkCjGU8xvRxAUJvwCTHjfExPwjiAFbS2L3'"
      ]
     },
     "metadata": {},
     "execution_count": 203
    }
   ]
  },
  {
   "cell_type": "code",
   "execution_count": 169,
   "metadata": {},
   "outputs": [
    {
     "output_type": "execute_result",
     "data": {
      "text/plain": [
       "'mhsMThiRSZzT7zBxbKEzyVCcnMfhzimxWz'"
      ]
     },
     "metadata": {},
     "execution_count": 169
    }
   ],
   "source": [
    "btc.address"
   ]
  },
  {
   "cell_type": "code",
   "execution_count": 170,
   "metadata": {},
   "outputs": [],
   "source": [
    "# btc = PrivateKeyTestnet()\n",
    "# print(\"private key : \",btc.to_wif()) #get private key\n",
    "# print(\"public key: \", btc.address)"
   ]
  },
  {
   "cell_type": "code",
   "execution_count": 171,
   "metadata": {},
   "outputs": [
    {
     "output_type": "stream",
     "name": "stdout",
     "text": [
      "0.00013\n",
      "4.13\n",
      "13000\n"
     ]
    }
   ],
   "source": [
    "print(btc.get_balance('btc'))\n",
    "print(btc.get_balance('usd'))\n",
    "print(btc.get_balance('satoshi'))"
   ]
  },
  {
   "cell_type": "code",
   "execution_count": 206,
   "metadata": {},
   "outputs": [
    {
     "output_type": "stream",
     "name": "stdout",
     "text": [
      "fees :  0\n"
     ]
    }
   ],
   "source": [
    "try:\n",
    "    transaction = btc.create_transaction([('mkHS9ne12qx9pS9VojpwU5xtRd4T7X7ZUt',3.77, 'usd')], fee=5)\n",
    "except Exception as e: \n",
    "    errors = str(e)\n",
    "    errors_split = errors.split()\n",
    "    include_fees=int(errors_split[5])\n",
    "    current_balance = int(errors_split[1])\n",
    "    differences = include_fees - current_balance\n",
    "    print(\"fees : \",network.satoshi_to_currency(differences, 'usd'))\n"
   ]
  },
  {
   "cell_type": "code",
   "execution_count": 207,
   "metadata": {},
   "outputs": [],
   "source": [
    "signed_transactions =btc.sign_transaction(transaction)"
   ]
  },
  {
   "cell_type": "code",
   "execution_count": 208,
   "metadata": {},
   "outputs": [
    {
     "output_type": "stream",
     "name": "stdout",
     "text": [
      "450  bytes\n"
     ]
    }
   ],
   "source": [
    "print(len(signed_transactions.encode('utf-8')), \" bytes\")"
   ]
  },
  {
   "cell_type": "code",
   "execution_count": 209,
   "metadata": {},
   "outputs": [],
   "source": [
    "from bit import network as nw"
   ]
  },
  {
   "cell_type": "code",
   "execution_count": 210,
   "metadata": {},
   "outputs": [],
   "source": [
    "result = nw.NetworkAPI.broadcast_tx_testnet(signed_transactions)"
   ]
  },
  {
   "cell_type": "code",
   "execution_count": 166,
   "metadata": {},
   "outputs": [
    {
     "output_type": "stream",
     "name": "stdout",
     "text": [
      "None\n"
     ]
    }
   ],
   "source": [
    "print(result)"
   ]
  },
  {
   "cell_type": "code",
   "execution_count": 47,
   "metadata": {},
   "outputs": [],
   "source": [
    "# note to self: miner transactions size = approximately signed size / 2 \n",
    "# https://live.blockcypher.com/btc-testnet/tx/1f4fd4e3e92722ed1bb1863220c91a87dc3a9fd47da5b179ecda739bb2596e10/ ==> 374B *2 = 748 B\n",
    "# https://live.blockcypher.com/btc-testnet/tx/ca25bb7f6ea1413f7cb9f191d55cb054470ba24dfae4645bd7b815892316c818/ ==> 225B *2 = 450 B \n"
   ]
  },
  {
   "cell_type": "code",
   "execution_count": null,
   "metadata": {},
   "outputs": [],
   "source": [
    "# consolidation transaction: \n",
    "# https://www.blockchain.com/btc-testnet/address/mhsMThiRSZzT7zBxbKEzyVCcnMfhzimxWz\n",
    "\n",
    "# consolidated returned to testnet faucet transaction:\n",
    "# https://www.blockchain.com/btc-testnet/tx/f26182ed8d65bc3306464d7a15669ce270e2b2858bdd58cd115f4521b902a33d"
   ]
  }
 ]
}