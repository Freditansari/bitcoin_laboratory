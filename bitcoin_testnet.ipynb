{
 "nbformat": 4,
 "nbformat_minor": 0,
 "metadata": {
  "colab": {
   "name": "bitcoin-exchange.ipynb",
   "provenance": []
  },
  "kernelspec": {
   "name": "python3",
   "display_name": "Python 3.8.8 64-bit ('base': conda)"
  },
  "language_info": {
   "name": "python",
   "version": "3.8.8"
  },
  "interpreter": {
   "hash": "b3ba2566441a7c06988d0923437866b63cedc61552a5af99d1f4fb67d367b25f"
  }
 },
 "cells": [
  {
   "cell_type": "code",
   "metadata": {
    "colab": {
     "base_uri": "https://localhost:8080/"
    },
    "id": "7Qo5XQihJve4",
    "outputId": "3fdaaeb2-f25a-46d3-9610-d9e562e883d2"
   },
   "source": [
    "# !pip install bit\n",
    "#  private key : cTVw1fKgo8TsPNUFkMBK7sW5HJCH23D6g1y1fMTFrQ4CoernK6Gk\n",
    "#  public key : miKDZGLH8nfzvESgPZZy9mQUY6zks2poU8"
   ],
   "execution_count": 127,
   "outputs": []
  },
  {
   "cell_type": "code",
   "metadata": {
    "colab": {
     "base_uri": "https://localhost:8080/",
     "height": 363
    },
    "id": "C12Q01UyJ1CQ",
    "outputId": "4002b423-e5ae-4eb5-c7e8-fd2678abdaf0"
   },
   "source": [
    "from bit import Key, PrivateKeyTestnet\n",
    "from bit import wif_to_key\n",
    "\n",
    "btc = PrivateKeyTestnet('cQ98KUAuEzZrUt7QGVNwWLyR3iGVTwfse5a39ew9LYwVa3JSkoNA')\n",
    "btc.to_wif() #get private key"
   ],
   "execution_count": 148,
   "outputs": [
    {
     "output_type": "execute_result",
     "data": {
      "text/plain": [
       "'cQ98KUAuEzZrUt7QGVNwWLyR3iGVTwfse5a39ew9LYwVa3JSkoNA'"
      ]
     },
     "metadata": {},
     "execution_count": 148
    }
   ]
  },
  {
   "cell_type": "code",
   "execution_count": 149,
   "metadata": {},
   "outputs": [
    {
     "output_type": "execute_result",
     "data": {
      "text/plain": [
       "'mifjC2Xv4JkqoKWw1JqbiH3W3EzFgKWC7s'"
      ]
     },
     "metadata": {},
     "execution_count": 149
    }
   ],
   "source": [
    "btc.address"
   ]
  },
  {
   "cell_type": "code",
   "execution_count": 150,
   "metadata": {},
   "outputs": [],
   "source": [
    "# btc = PrivateKeyTestnet()\n",
    "# print(\"private key : \",btc.to_wif()) #get private key\n",
    "# print(\"public key: \", btc.address)"
   ]
  },
  {
   "cell_type": "code",
   "execution_count": 167,
   "metadata": {},
   "outputs": [
    {
     "output_type": "stream",
     "name": "stdout",
     "text": [
      "0.0000057\n",
      "0.18\n",
      "570\n"
     ]
    }
   ],
   "source": [
    "print(btc.get_balance('btc'))\n",
    "print(btc.get_balance('usd'))\n",
    "print(btc.get_balance('satoshi'))"
   ]
  },
  {
   "cell_type": "code",
   "execution_count": 161,
   "metadata": {},
   "outputs": [],
   "source": [
    "transaction = btc.create_transaction([('mhsMThiRSZzT7zBxbKEzyVCcnMfhzimxWz',13000, 'satoshi')], fee=5)\n"
   ]
  },
  {
   "cell_type": "code",
   "execution_count": 162,
   "metadata": {},
   "outputs": [],
   "source": [
    "signed_transactions =btc.sign_transaction(transaction)"
   ]
  },
  {
   "cell_type": "code",
   "execution_count": 163,
   "metadata": {},
   "outputs": [
    {
     "output_type": "stream",
     "name": "stdout",
     "text": [
      "2812  bytes\n"
     ]
    }
   ],
   "source": [
    "print(len(signed_transactions.encode('utf-8')), \" bytes\")"
   ]
  },
  {
   "cell_type": "code",
   "execution_count": 164,
   "metadata": {},
   "outputs": [],
   "source": [
    "from bit import network as nw"
   ]
  },
  {
   "cell_type": "code",
   "execution_count": 165,
   "metadata": {},
   "outputs": [],
   "source": [
    "result = nw.NetworkAPI.broadcast_tx_testnet(signed_transactions)"
   ]
  },
  {
   "cell_type": "code",
   "execution_count": 166,
   "metadata": {},
   "outputs": [
    {
     "output_type": "stream",
     "name": "stdout",
     "text": [
      "None\n"
     ]
    }
   ],
   "source": [
    "print(result)"
   ]
  },
  {
   "cell_type": "code",
   "execution_count": 47,
   "metadata": {},
   "outputs": [],
   "source": [
    "# note to self: miner transactions size = approximately signed size / 2 \n",
    "# https://live.blockcypher.com/btc-testnet/tx/1f4fd4e3e92722ed1bb1863220c91a87dc3a9fd47da5b179ecda739bb2596e10/ ==> 374B *2 = 748 B\n",
    "# https://live.blockcypher.com/btc-testnet/tx/ca25bb7f6ea1413f7cb9f191d55cb054470ba24dfae4645bd7b815892316c818/ ==> 225B *2 = 450 B \n"
   ]
  },
  {
   "cell_type": "code",
   "execution_count": null,
   "metadata": {},
   "outputs": [],
   "source": [
    "# consolidation transaction: \n",
    "# https://www.blockchain.com/btc-testnet/address/mhsMThiRSZzT7zBxbKEzyVCcnMfhzimxWz"
   ]
  }
 ]
}